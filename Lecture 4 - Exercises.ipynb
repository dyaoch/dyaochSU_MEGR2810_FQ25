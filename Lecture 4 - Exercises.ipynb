{
 "cells": [
  {
   "cell_type": "markdown",
   "id": "bf181aa5",
   "metadata": {},
   "source": [
    "## Review on if statements "
   ]
  },
  {
   "cell_type": "markdown",
   "id": "48ee0ef5",
   "metadata": {},
   "source": [
    "## 🧊 Simulate a Thermostat\n",
    "Ask the user for the current temperature and print:\n",
    "- “It’s cold” if < 60°F\n",
    "- “It’s comfortable” if between 60°F and 75°F\n",
    "- “It’s hot” if > 75°F"
   ]
  },
  {
   "cell_type": "code",
   "execution_count": 1,
   "id": "51140bb1",
   "metadata": {},
   "outputs": [
    {
     "name": "stdout",
     "output_type": "stream",
     "text": [
      "It is hot!\n"
     ]
    }
   ],
   "source": [
    "temperature = input(\"What's the current temperature in Fahrenheit? \")\n",
    "# Your code here\n",
    "temp = float(temperature) # turn str into float\n",
    "if temp < 60: \n",
    "    print(\"It is cold!\")\n",
    "elif temp < 75 and temp > 60:\n",
    "    print(\"It is comfortable!\")\n",
    "else:\n",
    "    print(\"It is hot!\")"
   ]
  },
  {
   "cell_type": "markdown",
   "id": "c69bd652",
   "metadata": {},
   "source": [
    "## 🌊 Fluid Flow Calculation\n",
    "\n",
    "You are analyzing fluid flow in a pipe. The flow regime depends on the Reynolds number, which is calculated using:\n",
    "Re = (ρDv)/ μ.\n",
    "\n",
    "Where:\n",
    "Re = Reynolds number, a dimensionless number;\n",
    "ρ = density of the fluid;\n",
    "D = diameter of the passage way;\n",
    "v = velocity of the fluid;\n",
    "μ = viscosity of the fluid.\n",
    "\n",
    "Write a program that:\n",
    "- Asks for fluid properties and flow velocity.\n",
    "- Calculates Reynolds number.\n",
    "- Uses nested conditionals to classify the flow as:\n",
    "  - Laminar (Re < 2000)\n",
    "  - Transitional (2000 ≤ Re ≤ 4000)\n",
    "  - Turbulent (Re > 4000)\n"
   ]
  },
  {
   "cell_type": "code",
   "execution_count": null,
   "id": "bd8ad528",
   "metadata": {},
   "outputs": [
    {
     "name": "stdout",
     "output_type": "stream",
     "text": [
      "If the flow velocity is 0.202 m/s and the pipe diameter is 0.89 mm,\n",
      "then the Reynolds number is 201394.0\n",
      "It's transitional.\n"
     ]
    }
   ],
   "source": [
    "# Dilubch's Code\n",
    "# Defining variables\n",
    "v = float(input(\"Enter the flow velocity (m/s): \"))\n",
    "D = float(input(\"Enter the pipe diameter: \"))\n",
    "\n",
    "# Setting Constants\n",
    "rho = 997           # Water density ρ (kg/m^3\n",
    "mu = 0.00089         # Dynamic viscosity of Water μ (Pa·s) \n",
    "\n",
    "# Calculate Reynolds number \n",
    "Re = (rho * v * D)/mu      # Reynolds number\n",
    "Re = round(Re, 2)\n",
    "\n",
    "# Printing v, D, and Re\n",
    "print(f\"If the flow velocity is {v} m/s\" + f\" and the pipe diameter is {D} mm,\")\n",
    "print(\"then the Reynolds number is \" + str(Re))\n",
    "\n",
    "# Comparison \n",
    "if Re < 2000:\n",
    "    print (\"It's laminar.\")\n",
    "elif Re >= 2000 and Re <= 4000:\n",
    "    print(\"It's turbulent.\")\n",
    "else:\n",
    "    print(\"It's transitional.\")\n"
   ]
  },
  {
   "cell_type": "markdown",
   "id": "da140da0",
   "metadata": {},
   "source": [
    "## More on loops- Lecture 4 "
   ]
  },
  {
   "cell_type": "markdown",
   "id": "18bb680b",
   "metadata": {},
   "source": [
    "## 🔩 Bolt Counter\n",
    "\n",
    "A machine uses bolts in sets of 4 per assembly. Calculate how many bolts are needed for 10 assemblies. Print a message every time an assembly is completed.\n",
    "assemblies = 10\n",
    "bolts_per_assembly = 4\n"
   ]
  },
  {
   "cell_type": "code",
   "execution_count": 4,
   "id": "f45c1dbd",
   "metadata": {},
   "outputs": [
    {
     "name": "stdout",
     "output_type": "stream",
     "text": [
      "Assembly 1 completed! 4 bolts have been used so far!\n",
      "Assembly 2 completed! 8 bolts have been used so far!\n",
      "Assembly 3 completed! 12 bolts have been used so far!\n",
      "Assembly 4 completed! 16 bolts have been used so far!\n",
      "Assembly 5 completed! 20 bolts have been used so far!\n",
      "Assembly 6 completed! 24 bolts have been used so far!\n",
      "Assembly 7 completed! 28 bolts have been used so far!\n",
      "Assembly 8 completed! 32 bolts have been used so far!\n",
      "Assembly 9 completed! 36 bolts have been used so far!\n",
      "Assembly 10 completed! 40 bolts have been used so far!\n",
      "40 bolts are required in order to create 10 assemblies.\n"
     ]
    }
   ],
   "source": [
    "assemblies = 10\n",
    "bolts_per_assembly = 4\n",
    "total_bolts = 0\n",
    "assembly = 0\n",
    "\n",
    "for i in range (1, assemblies + 1):\n",
    "    assembly += 1\n",
    "    total_bolts += bolts_per_assembly \n",
    "    print(f\"Assembly {assembly} completed!\" + f\" {total_bolts} bolts have been used so far!\")\n",
    "    \n",
    "print(f\"{total_bolts} bolts are required in order to create {assemblies} assemblies.\")\n"
   ]
  },
  {
   "cell_type": "markdown",
   "id": "c63188b6",
   "metadata": {},
   "source": [
    "## ❄️ Cooling Curve Generator\n",
    "\n",
    "Simulate the cooling of a metal block using Newton’s Law of Cooling: T(t) = T_env + (T0 - T_env) * e^(-kt)."
   ]
  },
  {
   "cell_type": "code",
   "execution_count": null,
   "id": "55067512",
   "metadata": {},
   "outputs": [
    {
     "name": "stdout",
     "output_type": "stream",
     "text": [
      "At 0 minute, temperature is 100.00 degrees Celsius.\n",
      "At 1 minute, temperature is 92.58 degrees Celsius.\n",
      "At 2 minute, temperature is 85.86 degrees Celsius.\n",
      "At 3 minute, temperature is 79.78 degrees Celsius.\n",
      "At 4 minute, temperature is 74.28 degrees Celsius.\n",
      "At 5 minute, temperature is 69.31 degrees Celsius.\n",
      "At 6 minute, temperature is 64.81 degrees Celsius.\n",
      "At 7 minute, temperature is 60.73 degrees Celsius.\n",
      "At 8 minute, temperature is 57.05 degrees Celsius.\n",
      "At 9 minute, temperature is 53.71 degrees Celsius.\n",
      "At 10 minute, temperature is 50.69 degrees Celsius.\n"
     ]
    }
   ],
   "source": [
    "import math\n",
    "\n",
    "T_env = 22\n",
    "T0 = 100\n",
    "k = 0.1\n",
    "time_range = range(0, 11)\n",
    "\n",
    "for t in time_range:\n",
    "    T_t = T_env + (T0 - T_env) * math.exp(-k*t)\n",
    "    print(f\"At minute {t}, temperature is {T_t:.2f} degrees Celsius.\")"
   ]
  },
  {
   "cell_type": "markdown",
   "id": "bd7d5878",
   "metadata": {},
   "source": [
    "## 🌊 Simple Harmonic Motion Tracker\n",
    "\n",
    "Simulate the position of a spring-mass system over time using x(t) = A * cos(ωt). ω is the angular frequency in rad/s, which equals to 2πf. f is the linear frequency in hertz (1/second). Print out the position at each time step. Make sure you can see a Cos function in your output."
   ]
  },
  {
   "cell_type": "code",
   "execution_count": null,
   "id": "d0f1a698",
   "metadata": {},
   "outputs": [
    {
     "name": "stdout",
     "output_type": "stream",
     "text": [
      "At t= 0, x(t)=  1.0000\n",
      "At t= 1, x(t)=  0.9980\n",
      "At t= 2, x(t)=  0.9921\n",
      "At t= 3, x(t)=  0.9823\n",
      "At t= 4, x(t)=  0.9686\n",
      "At t= 5, x(t)=  0.9511\n",
      "At t= 6, x(t)=  0.9298\n",
      "At t= 7, x(t)=  0.9048\n",
      "At t= 8, x(t)=  0.8763\n",
      "At t= 9, x(t)=  0.8443\n",
      "At t= 10, x(t)=  0.8090\n",
      "At t= 11, x(t)=  0.7705\n",
      "At t= 12, x(t)=  0.7290\n",
      "At t= 13, x(t)=  0.6845\n",
      "At t= 14, x(t)=  0.6374\n",
      "At t= 15, x(t)=  0.5878\n",
      "At t= 16, x(t)=  0.5358\n",
      "At t= 17, x(t)=  0.4818\n",
      "At t= 18, x(t)=  0.4258\n",
      "At t= 19, x(t)=  0.3681\n",
      "At t= 20, x(t)=  0.3090\n",
      "At t= 21, x(t)=  0.2487\n",
      "At t= 22, x(t)=  0.1874\n",
      "At t= 23, x(t)=  0.1253\n",
      "At t= 24, x(t)=  0.0628\n",
      "At t= 25, x(t)= -0.0000\n",
      "At t= 26, x(t)= -0.0628\n",
      "At t= 27, x(t)= -0.1253\n",
      "At t= 28, x(t)= -0.1874\n",
      "At t= 29, x(t)= -0.2487\n",
      "At t= 30, x(t)= -0.3090\n",
      "At t= 31, x(t)= -0.3681\n",
      "At t= 32, x(t)= -0.4258\n",
      "At t= 33, x(t)= -0.4818\n",
      "At t= 34, x(t)= -0.5358\n",
      "At t= 35, x(t)= -0.5878\n",
      "At t= 36, x(t)= -0.6374\n",
      "At t= 37, x(t)= -0.6845\n",
      "At t= 38, x(t)= -0.7290\n",
      "At t= 39, x(t)= -0.7705\n",
      "At t= 40, x(t)= -0.8090\n",
      "At t= 41, x(t)= -0.8443\n",
      "At t= 42, x(t)= -0.8763\n",
      "At t= 43, x(t)= -0.9048\n",
      "At t= 44, x(t)= -0.9298\n",
      "At t= 45, x(t)= -0.9511\n",
      "At t= 46, x(t)= -0.9686\n",
      "At t= 47, x(t)= -0.9823\n",
      "At t= 48, x(t)= -0.9921\n",
      "At t= 49, x(t)= -0.9980\n",
      "At t= 50, x(t)= -1.0000\n",
      "At t= 51, x(t)= -0.9980\n",
      "At t= 52, x(t)= -0.9921\n",
      "At t= 53, x(t)= -0.9823\n",
      "At t= 54, x(t)= -0.9686\n",
      "At t= 55, x(t)= -0.9511\n",
      "At t= 56, x(t)= -0.9298\n",
      "At t= 57, x(t)= -0.9048\n",
      "At t= 58, x(t)= -0.8763\n",
      "At t= 59, x(t)= -0.8443\n",
      "At t= 60, x(t)= -0.8090\n",
      "At t= 61, x(t)= -0.7705\n",
      "At t= 62, x(t)= -0.7290\n",
      "At t= 63, x(t)= -0.6845\n",
      "At t= 64, x(t)= -0.6374\n",
      "At t= 65, x(t)= -0.5878\n",
      "At t= 66, x(t)= -0.5358\n",
      "At t= 67, x(t)= -0.4818\n",
      "At t= 68, x(t)= -0.4258\n",
      "At t= 69, x(t)= -0.3681\n",
      "At t= 70, x(t)= -0.3090\n",
      "At t= 71, x(t)= -0.2487\n",
      "At t= 72, x(t)= -0.1874\n",
      "At t= 73, x(t)= -0.1253\n",
      "At t= 74, x(t)= -0.0628\n",
      "At t= 75, x(t)= -0.0000\n",
      "At t= 76, x(t)=  0.0628\n",
      "At t= 77, x(t)=  0.1253\n",
      "At t= 78, x(t)=  0.1874\n",
      "At t= 79, x(t)=  0.2487\n",
      "At t= 80, x(t)=  0.3090\n",
      "At t= 81, x(t)=  0.3681\n",
      "At t= 82, x(t)=  0.4258\n",
      "At t= 83, x(t)=  0.4818\n",
      "At t= 84, x(t)=  0.5358\n",
      "At t= 85, x(t)=  0.5878\n",
      "At t= 86, x(t)=  0.6374\n",
      "At t= 87, x(t)=  0.6845\n",
      "At t= 88, x(t)=  0.7290\n",
      "At t= 89, x(t)=  0.7705\n",
      "At t= 90, x(t)=  0.8090\n",
      "At t= 91, x(t)=  0.8443\n",
      "At t= 92, x(t)=  0.8763\n",
      "At t= 93, x(t)=  0.9048\n",
      "At t= 94, x(t)=  0.9298\n",
      "At t= 95, x(t)=  0.9511\n",
      "At t= 96, x(t)=  0.9686\n",
      "At t= 97, x(t)=  0.9823\n",
      "At t= 98, x(t)=  0.9921\n",
      "At t= 99, x(t)=  0.9980\n"
     ]
    }
   ],
   "source": [
    "# The following code has errors. Please fix them.\n",
    "import math\n",
    "\n",
    "A = 1  # amplitude in meters\n",
    "frequency = 0.01 # in Hz \n",
    "omega = 2 * math.pi * frequency  # angular frequency in rad/s\n",
    "time_steps = range(0, 100)  # time from 0 to xx seconds. You can change xx.\n",
    "\n",
    "# Loop through time steps\n",
    "for t in time_steps:\n",
    "    x = A * math.cos(omega * t)\n",
    "    print(f\"At t= {t}, x(t)= {x: .4f}\")\n"
   ]
  },
  {
   "cell_type": "markdown",
   "id": "1f4170de",
   "metadata": {},
   "source": [
    "## 📚 Study Timer\n",
    "\n",
    "Loop through 5 study sessions of 25 minutes each. After each session, print the session number and \"Take a 5-minute break!\".\n",
    "\n",
    "Track total study time and break time and print them out at the end."
   ]
  },
  {
   "cell_type": "code",
   "execution_count": 11,
   "id": "b21dfb8d",
   "metadata": {},
   "outputs": [
    {
     "name": "stdout",
     "output_type": "stream",
     "text": [
      "Congrats! Session 1 has ended. Relax and take a 5-minute break.\n",
      "Congrats! Session 2 has ended. Relax and take a 5-minute break.\n",
      "Congrats! Session 3 has ended. Relax and take a 5-minute break.\n",
      "Congrats! Session 4 has ended. Relax and take a 5-minute break.\n",
      "Congrats! Session 5 has ended. Relax and take a 5-minute break.\n",
      "Total study time: 125 minutes\n",
      "Total break time: 25 minutes\n"
     ]
    }
   ],
   "source": [
    "study_sesh = 5\n",
    "sesh_duration = 25\n",
    "break_duration = 5\n",
    "tot_study_time = 0\n",
    "tot_break_time = 0 \n",
    "\n",
    "for sesh in range(1, study_sesh + 1):\n",
    "    tot_study_time += sesh_duration\n",
    "    tot_break_time += break_duration\n",
    "    print(f\"Congrats! Session {sesh} has ended. Relax and take a 5-minute break.\")\n",
    "print(f\"Total study time: {tot_study_time} minutes\")\n",
    "print(f\"Total break time: {tot_break_time} minutes\")"
   ]
  },
  {
   "cell_type": "markdown",
   "id": "a7f7b3fd",
   "metadata": {},
   "source": [
    "## 🏃 Step Counter\n",
    "\n",
    "Simulate a pedometer that logs steps every minute. Loop through 60 minutes and sum the total steps.\n",
    "Use random.randint(80, 120) to simulate steps per minute."
   ]
  },
  {
   "cell_type": "code",
   "execution_count": 14,
   "id": "9bec72c0",
   "metadata": {},
   "outputs": [
    {
     "name": "stdout",
     "output_type": "stream",
     "text": [
      "Minute 1: 113 steps\n",
      "Minute 2: 81 steps\n",
      "Minute 3: 84 steps\n",
      "Minute 4: 96 steps\n",
      "Minute 5: 85 steps\n",
      "Minute 6: 102 steps\n",
      "Minute 7: 95 steps\n",
      "Minute 8: 94 steps\n",
      "Minute 9: 85 steps\n",
      "Minute 10: 97 steps\n",
      "Minute 11: 87 steps\n",
      "Minute 12: 104 steps\n",
      "Minute 13: 102 steps\n",
      "Minute 14: 106 steps\n",
      "Minute 15: 103 steps\n",
      "Minute 16: 114 steps\n",
      "Minute 17: 85 steps\n",
      "Minute 18: 115 steps\n",
      "Minute 19: 108 steps\n",
      "Minute 20: 110 steps\n",
      "Minute 21: 80 steps\n",
      "Minute 22: 106 steps\n",
      "Minute 23: 95 steps\n",
      "Minute 24: 100 steps\n",
      "Minute 25: 80 steps\n",
      "Minute 26: 116 steps\n",
      "Minute 27: 86 steps\n",
      "Minute 28: 118 steps\n",
      "Minute 29: 119 steps\n",
      "Minute 30: 90 steps\n",
      "Minute 31: 108 steps\n",
      "Minute 32: 96 steps\n",
      "Minute 33: 104 steps\n",
      "Minute 34: 116 steps\n",
      "Minute 35: 101 steps\n",
      "Minute 36: 117 steps\n",
      "Minute 37: 96 steps\n",
      "Minute 38: 99 steps\n",
      "Minute 39: 97 steps\n",
      "Minute 40: 104 steps\n",
      "Minute 41: 93 steps\n",
      "Minute 42: 102 steps\n",
      "Minute 43: 80 steps\n",
      "Minute 44: 81 steps\n",
      "Minute 45: 86 steps\n",
      "Minute 46: 84 steps\n",
      "Minute 47: 105 steps\n",
      "Minute 48: 93 steps\n",
      "Minute 49: 91 steps\n",
      "Minute 50: 106 steps\n",
      "Minute 51: 116 steps\n",
      "Minute 52: 101 steps\n",
      "Minute 53: 93 steps\n",
      "Minute 54: 85 steps\n",
      "Minute 55: 84 steps\n",
      "Minute 56: 119 steps\n",
      "Minute 57: 118 steps\n",
      "Minute 58: 87 steps\n",
      "Minute 59: 96 steps\n",
      "Minute 60: 118 steps\n",
      "Total steps in 1 hour: 5932\n"
     ]
    }
   ],
   "source": [
    "import random\n",
    "tot_steps = 0\n",
    "minute = 0\n",
    "\n",
    "for minute in range(60):\n",
    "    minute = minute + 1\n",
    "    steps = random.randint(80,120)\n",
    "    tot_steps = steps + tot_steps\n",
    "    print(f\"Minute {minute}: {steps} steps\")\n",
    "\n",
    "print(f\"Total steps in 1 hour: {tot_steps}\")\n",
    "    "
   ]
  },
  {
   "cell_type": "markdown",
   "id": "1c31ade7",
   "metadata": {},
   "source": [
    "## 🔁 Material Fatigue Counter\n",
    "\n",
    "Count how many cycles a material can endure before failure. Reduce strength slightly each cycle (you decide the deduction) and stop when it drops below a threshold."
   ]
  },
  {
   "cell_type": "code",
   "execution_count": 22,
   "id": "21d7d6ec",
   "metadata": {},
   "outputs": [
    {
     "name": "stdout",
     "output_type": "stream",
     "text": [
      "Cycle 1 - current strength is 2955.00\n",
      "Cycle 2 - current strength is 2910.00\n",
      "Cycle 3 - current strength is 2865.00\n",
      "Cycle 4 - current strength is 2820.00\n",
      "Cycle 5 - current strength is 2775.00\n",
      "Cycle 6 - current strength is 2730.00\n",
      "Cycle 7 - current strength is 2685.00\n",
      "Cycle 8 - current strength is 2640.00\n",
      "Cycle 9 - current strength is 2595.00\n",
      "Cycle 10 - current strength is 2550.00\n",
      "Cycle 11 - current strength is 2505.00\n",
      "Cycle 12 - current strength is 2460.00\n",
      "Cycle 13 - current strength is 2415.00\n",
      "Cycle 14 - current strength is 2370.00\n",
      "Cycle 15 - current strength is 2325.00\n",
      "Cycle 16 - current strength is 2280.00\n",
      "Cycle 17 - current strength is 2235.00\n",
      "Cycle 18 - current strength is 2190.00\n",
      "Cycle 19 - current strength is 2145.00\n",
      "Cycle 20 - current strength is 2100.00\n",
      "Cycle 21 - current strength is 2055.00\n",
      "Cycle 22 - current strength is 2010.00\n",
      "Cycle 23 - current strength is 1965.00\n",
      "Cycle 24 - current strength is 1920.00\n",
      "Cycle 25 - current strength is 1875.00\n",
      "Cycle 26 - current strength is 1830.00\n",
      "Cycle 27 - current strength is 1785.00\n",
      "Cycle 28 - current strength is 1740.00\n",
      "Cycle 29 - current strength is 1695.00\n",
      "Cycle 30 - current strength is 1650.00\n",
      "Cycle 31 - current strength is 1605.00\n",
      "Cycle 32 - current strength is 1560.00\n",
      "Cycle 33 - current strength is 1515.00\n",
      "Cycle 34 - current strength is 1470.00\n",
      "Cycle 35 - current strength is 1425.00\n",
      "Cycle 36 - current strength is 1380.00\n",
      "Cycle 37 - current strength is 1335.00\n",
      "Cycle 38 - current strength is 1290.00\n",
      "Cycle 39 - current strength is 1245.00\n",
      "Cycle 40 - current strength is 1200.00\n",
      "Cycle 41 - current strength is 1155.00\n",
      "Cycle 42 - current strength is 1110.00\n",
      "Cycle 43 - current strength is 1065.00\n",
      "Cycle 44 - current strength is 1020.00\n",
      "Cycle 45 - current strength is 975.00\n",
      "Cycle 46 - current strength is 930.00\n",
      "Cycle 47 - current strength is 885.00\n",
      "Cycle 48 - current strength is 840.00\n",
      "Cycle 49 - current strength is 795.00\n",
      "Material failed after 49 cycles.\n"
     ]
    }
   ],
   "source": [
    "init_strength = 3000\n",
    "threshold = 800\n",
    "cycle = 0\n",
    "strength = init_strength\n",
    "\n",
    "while strength > threshold:\n",
    "    deduction = init_strength * 0.015\n",
    "    strength = strength - deduction\n",
    "    cycle = cycle + 1\n",
    "    print(f\"Cycle {cycle} - current strength is {strength:.2f}\")\n",
    "\n",
    "print(f\"Material failed after {cycle} cycles.\")"
   ]
  },
  {
   "cell_type": "markdown",
   "id": "a7def41f",
   "metadata": {},
   "source": [
    "## 📱 Battery Drain Simulator\n",
    "\n",
    "Simulate a phone battery draining 5% every hour. Use a loop to show battery level over time until it reaches 0%.\n",
    "Print a warning when battery drops below 20% and a final message if the battery is drained. \n",
    "\n",
    "Hint: You may use a conditional statement nested in a while loop."
   ]
  },
  {
   "cell_type": "code",
   "execution_count": 30,
   "id": "2339e07a",
   "metadata": {},
   "outputs": [
    {
     "name": "stdout",
     "output_type": "stream",
     "text": [
      "Hour 1 - Current battery level is 95\n",
      "Hour 2 - Current battery level is 90\n",
      "Hour 3 - Current battery level is 85\n",
      "Hour 4 - Current battery level is 80\n",
      "Hour 5 - Current battery level is 75\n",
      "Hour 6 - Current battery level is 70\n",
      "Hour 7 - Current battery level is 65\n",
      "Hour 8 - Current battery level is 60\n",
      "Hour 9 - Current battery level is 55\n",
      "Hour 10 - Current battery level is 50\n",
      "Hour 11 - Current battery level is 45\n",
      "Hour 12 - Current battery level is 40\n",
      "Hour 13 - Current battery level is 35\n",
      "Hour 14 - Current battery level is 30\n",
      "Hour 15 - Current battery level is 25\n",
      "Hour 16 - Current battery level is 20\n",
      "Warning! Low Battery\n",
      "Hour 17 - Current battery level is 15\n",
      "Hour 18 - Current battery level is 10\n",
      "Hour 19 - Current battery level is 5\n",
      "Hour 20 - Current battery level is 0\n",
      "Dead Battery!\n"
     ]
    }
   ],
   "source": [
    "battery = 100 \n",
    "hour = 0\n",
    "drain = 5\n",
    "while battery > 0:\n",
    "    hour = hour + 1\n",
    "    battery = battery - drain\n",
    "    print(f\"Hour {hour} - Current battery level is {battery}\")\n",
    "    if battery == 20:\n",
    "        print(\"Warning! Low Battery\")\n",
    "print(\"Dead Battery!\")\n",
    "\n"
   ]
  }
 ],
 "metadata": {
  "kernelspec": {
   "display_name": "base",
   "language": "python",
   "name": "python3"
  },
  "language_info": {
   "codemirror_mode": {
    "name": "ipython",
    "version": 3
   },
   "file_extension": ".py",
   "mimetype": "text/x-python",
   "name": "python",
   "nbconvert_exporter": "python",
   "pygments_lexer": "ipython3",
   "version": "3.13.5"
  }
 },
 "nbformat": 4,
 "nbformat_minor": 5
}
