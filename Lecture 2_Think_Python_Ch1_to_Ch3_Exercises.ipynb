{
 "cells": [
  {
   "cell_type": "markdown",
   "id": "2fa8b039",
   "metadata": {},
   "source": [
    "## Arithmetic Operators"
   ]
  },
  {
   "cell_type": "code",
   "execution_count": 57,
   "id": "be267969",
   "metadata": {},
   "outputs": [
    {
     "name": "stdout",
     "output_type": "stream",
     "text": [
      "Addition: 13\n",
      "Subtraction: -7\n",
      "Multiplication: 100\n",
      "Division: 1.0\n",
      "Floor Division: 3\n",
      "Modulus: 1\n",
      "Exponentiation: 27\n"
     ]
    }
   ],
   "source": [
    "# Arithmetic Operators\n",
    "# Python supports basic arithmetic operations:\n",
    "# Addition (+), Subtraction (-), Multiplication (*), Division (/), Modulus (%), Exponentiation (**)\n",
    "\n",
    "a = 10\n",
    "b = 3\n",
    "\n",
    "print(\"Addition:\", a + b)\n",
    "print(\"Subtraction:\",b - a ) # Your code from here and on \n",
    "print(\"Multiplication:\", a*a )\n",
    "print(\"Division:\", b/b )\n",
    "print(\"Floor Division:\", a//b )\n",
    "print(\"Modulus:\", a%b )\n",
    "print(\"Exponentiation:\", b**b)\n"
   ]
  },
  {
   "cell_type": "markdown",
   "id": "b1f46671",
   "metadata": {},
   "source": [
    "## Expressions"
   ]
  },
  {
   "cell_type": "code",
   "execution_count": 58,
   "id": "ebdd5307",
   "metadata": {},
   "outputs": [
    {
     "name": "stdout",
     "output_type": "stream",
     "text": [
      "Expression result: a = 20  b = 5.5\n"
     ]
    }
   ],
   "source": [
    "# Expressions\n",
    "# An expression is a combination of values, variables, and operators that Python can evaluate.\n",
    "\n",
    "x = 5\n",
    "y = 2\n",
    "a = (x**y) - x # Your code to change a and b to different expressions\n",
    "b = (x / y) + 3\n",
    "\n",
    "print(\"Expression result: a =\", a, \" b =\", b)"
   ]
  },
  {
   "cell_type": "markdown",
   "id": "da622ebd",
   "metadata": {},
   "source": [
    "## Arithmetic Functions"
   ]
  },
  {
   "cell_type": "code",
   "execution_count": 59,
   "id": "8f87d071",
   "metadata": {},
   "outputs": [
    {
     "ename": "TypeError",
     "evalue": "abs() missing 1 required positional argument: 'd'",
     "output_type": "error",
     "traceback": [
      "\u001b[1;31m---------------------------------------------------------------------------\u001b[0m",
      "\u001b[1;31mTypeError\u001b[0m                                 Traceback (most recent call last)",
      "Cell \u001b[1;32mIn[59], line 6\u001b[0m\n\u001b[0;32m      1\u001b[0m \u001b[38;5;66;03m# Arithmetic Functions\u001b[39;00m\n\u001b[0;32m      2\u001b[0m \u001b[38;5;66;03m# Python provides built-in functions like round() and abs()\u001b[39;00m\n\u001b[0;32m      4\u001b[0m value \u001b[38;5;241m=\u001b[39m \u001b[38;5;241m-\u001b[39m\u001b[38;5;241m7.89627\u001b[39m\n\u001b[1;32m----> 6\u001b[0m \u001b[38;5;28mprint\u001b[39m(\u001b[38;5;124m\"\u001b[39m\u001b[38;5;124mAbsolute value:\u001b[39m\u001b[38;5;124m\"\u001b[39m, \u001b[38;5;28mabs\u001b[39m(value))\n\u001b[0;32m      7\u001b[0m \u001b[38;5;28mprint\u001b[39m(\u001b[38;5;124m\"\u001b[39m\u001b[38;5;124mRounded value:\u001b[39m\u001b[38;5;124m\"\u001b[39m, \u001b[38;5;28mround\u001b[39m(value, \u001b[38;5;241m3\u001b[39m))\n\u001b[0;32m      9\u001b[0m \u001b[38;5;66;03m# Your code here\u001b[39;00m\n",
      "\u001b[1;31mTypeError\u001b[0m: abs() missing 1 required positional argument: 'd'"
     ]
    }
   ],
   "source": [
    "# Arithmetic Functions\n",
    "# Python provides built-in functions like round() and abs()\n",
    "\n",
    "value = -7.89627\n",
    "\n",
    "print(\"Absolute value:\", abs(value))\n",
    "print(\"Rounded value:\", round(value, 3))\n",
    "\n",
    "# Your code here\n",
    "\n",
    "myvalue = 3**4 / 10\n",
    "print(\"Absolute value of my code:\", abs(myvalue))\n",
    "print(\"And its subsequent rounded equivalent\", round(myvalue,5))"
   ]
  },
  {
   "cell_type": "markdown",
   "id": "ee503e8f",
   "metadata": {},
   "source": [
    "## Strings"
   ]
  },
  {
   "cell_type": "code",
   "execution_count": null,
   "id": "bdcb4d75",
   "metadata": {},
   "outputs": [
    {
     "name": "stdout",
     "output_type": "stream",
     "text": [
      "Hello, World!\n",
      "Hello, World!\n",
      "Length of string 1: 13\n",
      "Uppercase: HELLO, WORLD!\n",
      "Now let's move onto my code!\n",
      "Goodnight, Sky!\n",
      "Goodnight, Sky!\n",
      "What is the length of string 3?: It's 15\n",
      "Uppercase:  GOODNIGHT, SKY!\n"
     ]
    }
   ],
   "source": [
    "# Strings\n",
    "# Strings are sequences of characters enclosed in quotes.\n",
    "\n",
    "greeting1 = \"Hello, World!\"\n",
    "greeting2 = 'Hello' + ', ' + \"World!\"\n",
    "print(greeting1)\n",
    "print(greeting2)\n",
    "print(\"Length of string 1:\", len(greeting1))\n",
    "print(\"Uppercase:\", greeting2.upper())\n",
    "\n",
    "# Your code here\n",
    "print(\"Now let's move onto my code!\")\n",
    "msg1 = \"Goodnight, Sky!\"\n",
    "msg2 = \"Goodnight\" + \", \" + \"Sky!\"\n",
    "print(msg1)\n",
    "print(msg2)\n",
    "print(\"What is the length of string 3?: \" + \"It's\", len(msg1))\n",
    "print(\"Uppercase: \", msg2.upper())"
   ]
  },
  {
   "cell_type": "markdown",
   "id": "aec13de8",
   "metadata": {},
   "source": [
    "## Values and Variables"
   ]
  },
  {
   "cell_type": "code",
   "execution_count": null,
   "id": "74303a9a",
   "metadata": {},
   "outputs": [
    {
     "name": "stdout",
     "output_type": "stream",
     "text": [
      "Type of num: <class 'int'>\n",
      "Type of text: <class 'str'>\n",
      "Convert string to int: 123\n",
      "Convert string to float: 123.456\n",
      "Convert float to int: 123\n",
      "example from the quiz from monday! what happens if we ran int('123')? It'll produce the following: 123\n"
     ]
    }
   ],
   "source": [
    "# Values and Variables\n",
    "# Variables store values. Use type() to check the type of a value.\n",
    "\n",
    "num = 42\n",
    "text = \"Python\"\n",
    "int_num = int(\"123\")\n",
    "\n",
    "print(\"Type of num:\", type(num))\n",
    "print(\"Type of text:\", type(text))\n",
    "print(\"Convert string to int:\", int(\"123\"))\n",
    "print(\"Convert string to float:\", float(\"123.456\"))\n",
    "print(\"Convert float to int:\", int(123.456))\n",
    "\n",
    "# Your code here\n",
    "\n",
    "num2 = 89\n",
    "text2 = \"dummy string\"\n",
    "print(\"example from the quiz from monday! what happens if we ran int('123')? It'll produce the following:\", int(\"123\"))"
   ]
  },
  {
   "cell_type": "markdown",
   "id": "412914d1",
   "metadata": {},
   "source": [
    "## Variable Assignments and Statements"
   ]
  },
  {
   "cell_type": "code",
   "execution_count": null,
   "id": "ebb5b28a",
   "metadata": {},
   "outputs": [],
   "source": [
    "# Variable Assignments and Statements\n",
    "# Use = to assign values to variables.\n",
    "\n",
    "x = 10\n",
    "y = x + 5\n",
    "print(\"Value of y:\", y)\n"
   ]
  },
  {
   "cell_type": "markdown",
   "id": "3db46405",
   "metadata": {},
   "source": [
    "## Variable Naming Rules and Keywords"
   ]
  },
  {
   "cell_type": "code",
   "execution_count": 1,
   "id": "b07ff4b0",
   "metadata": {},
   "outputs": [
    {
     "data": {
      "text/plain": [
       "['False',\n",
       " 'None',\n",
       " 'True',\n",
       " 'and',\n",
       " 'as',\n",
       " 'assert',\n",
       " 'async',\n",
       " 'await',\n",
       " 'break',\n",
       " 'class',\n",
       " 'continue',\n",
       " 'def',\n",
       " 'del',\n",
       " 'elif',\n",
       " 'else',\n",
       " 'except',\n",
       " 'finally',\n",
       " 'for',\n",
       " 'from',\n",
       " 'global',\n",
       " 'if',\n",
       " 'import',\n",
       " 'in',\n",
       " 'is',\n",
       " 'lambda',\n",
       " 'nonlocal',\n",
       " 'not',\n",
       " 'or',\n",
       " 'pass',\n",
       " 'raise',\n",
       " 'return',\n",
       " 'try',\n",
       " 'while',\n",
       " 'with',\n",
       " 'yield']"
      ]
     },
     "execution_count": 1,
     "metadata": {},
     "output_type": "execute_result"
    }
   ],
   "source": [
    "# Variable Naming Rules and Keywords\n",
    "# Variable names must start with a letter or underscore and cannot be Python keywords.\n",
    "\n",
    "# Valid variable names\n",
    "my_var = 1\n",
    "_var2 = 2\n",
    "\n",
    "# Invalid: 2var = 3 (starts with a number)\n",
    "# Invalid: if = 4 (if is a keyword)\n",
    "\n",
    "import keyword\n",
    "# print(\"Python keywords:\", keyword.kwlist) # Print out a list of Python keywords\n",
    "keyword.kwlist\n",
    "\n"
   ]
  },
  {
   "cell_type": "markdown",
   "id": "04067491",
   "metadata": {},
   "source": [
    "## Math Module"
   ]
  },
  {
   "cell_type": "code",
   "execution_count": 2,
   "id": "db9aac63",
   "metadata": {},
   "outputs": [
    {
     "name": "stdout",
     "output_type": "stream",
     "text": [
      "Square root of 16: 4.0\n",
      "Value of pi: 3.141592653589793\n",
      "Cosine of 0: 1.0\n",
      "['__doc__', '__loader__', '__name__', '__package__', '__spec__', 'acos', 'acosh', 'asin', 'asinh', 'atan', 'atan2', 'atanh', 'cbrt', 'ceil', 'comb', 'copysign', 'cos', 'cosh', 'degrees', 'dist', 'e', 'erf', 'erfc', 'exp', 'exp2', 'expm1', 'fabs', 'factorial', 'floor', 'fma', 'fmod', 'frexp', 'fsum', 'gamma', 'gcd', 'hypot', 'inf', 'isclose', 'isfinite', 'isinf', 'isnan', 'isqrt', 'lcm', 'ldexp', 'lgamma', 'log', 'log10', 'log1p', 'log2', 'modf', 'nan', 'nextafter', 'perm', 'pi', 'pow', 'prod', 'radians', 'remainder', 'sin', 'sinh', 'sqrt', 'sumprod', 'tan', 'tanh', 'tau', 'trunc', 'ulp']\n",
      "What is the remainder of 78/3?It's  1.0\n"
     ]
    },
    {
     "data": {
      "text/plain": [
       "['__doc__',\n",
       " '__loader__',\n",
       " '__name__',\n",
       " '__package__',\n",
       " '__spec__',\n",
       " 'acos',\n",
       " 'acosh',\n",
       " 'asin',\n",
       " 'asinh',\n",
       " 'atan',\n",
       " 'atan2',\n",
       " 'atanh',\n",
       " 'cbrt',\n",
       " 'ceil',\n",
       " 'comb',\n",
       " 'copysign',\n",
       " 'cos',\n",
       " 'cosh',\n",
       " 'degrees',\n",
       " 'dist',\n",
       " 'e',\n",
       " 'erf',\n",
       " 'erfc',\n",
       " 'exp',\n",
       " 'exp2',\n",
       " 'expm1',\n",
       " 'fabs',\n",
       " 'factorial',\n",
       " 'floor',\n",
       " 'fma',\n",
       " 'fmod',\n",
       " 'frexp',\n",
       " 'fsum',\n",
       " 'gamma',\n",
       " 'gcd',\n",
       " 'hypot',\n",
       " 'inf',\n",
       " 'isclose',\n",
       " 'isfinite',\n",
       " 'isinf',\n",
       " 'isnan',\n",
       " 'isqrt',\n",
       " 'lcm',\n",
       " 'ldexp',\n",
       " 'lgamma',\n",
       " 'log',\n",
       " 'log10',\n",
       " 'log1p',\n",
       " 'log2',\n",
       " 'modf',\n",
       " 'nan',\n",
       " 'nextafter',\n",
       " 'perm',\n",
       " 'pi',\n",
       " 'pow',\n",
       " 'prod',\n",
       " 'radians',\n",
       " 'remainder',\n",
       " 'sin',\n",
       " 'sinh',\n",
       " 'sqrt',\n",
       " 'sumprod',\n",
       " 'tan',\n",
       " 'tanh',\n",
       " 'tau',\n",
       " 'trunc',\n",
       " 'ulp']"
      ]
     },
     "execution_count": 2,
     "metadata": {},
     "output_type": "execute_result"
    }
   ],
   "source": [
    "# Math Module\n",
    "# Import the math module to access mathematical functions\n",
    "\n",
    "import math\n",
    "\n",
    "print(\"Square root of 16:\", math.sqrt(16))\n",
    "print(\"Value of pi:\", math.pi)\n",
    "print(\"Cosine of 0:\", math.cos(0))\n",
    "\n",
    "# Your code here to use math functions. Do what you like!\n",
    "print(dir(math))\n",
    "print(\"What is the remainder of 78/3?\" + \"It's \", math.remainder(25,4))\n",
    "\n",
    "dir(math)"
   ]
  },
  {
   "cell_type": "markdown",
   "id": "4a980680",
   "metadata": {},
   "source": [
    "## TypeErrors"
   ]
  },
  {
   "cell_type": "code",
   "execution_count": null,
   "id": "951b1c0b",
   "metadata": {},
   "outputs": [
    {
     "name": "stdout",
     "output_type": "stream",
     "text": [
      "hello5\n",
      "hello5\n"
     ]
    }
   ],
   "source": [
    "# TypeErrors\n",
    "# TypeErrors occur when operations are applied to incompatible types\n",
    "\n",
    "# Example:\n",
    "try:\n",
    "    result = \"hello\" + \"5\"\n",
    "except TypeError as e:\n",
    "    print(\"TypeError:\", e)\n",
    "print(result)\n",
    "\n",
    "# Fixed the error!\n",
    "try:\n",
    "    result = \"hello\" + \"5\"\n",
    "except TypeError as e:\n",
    "    print(\"TypeError:\", e)\n",
    "print(result)"
   ]
  },
  {
   "cell_type": "markdown",
   "id": "b4b3f96c",
   "metadata": {},
   "source": [
    "## Comments"
   ]
  },
  {
   "cell_type": "code",
   "execution_count": null,
   "id": "74931309",
   "metadata": {},
   "outputs": [],
   "source": [
    "# Comments\n",
    "# Use comments to explain code. Comments start with #\n",
    "\n",
    "# This is a comment\n",
    "x = 5  # Assign 5 to x\n",
    "print(x) # Print variable x\n"
   ]
  },
  {
   "cell_type": "markdown",
   "id": "c33bce8d",
   "metadata": {},
   "source": [
    "# Exercises\n",
    "# Try these:\n",
    "# 1. Create a variable and assign it a string.\n",
    "# 2. Use math.sqrt() to find the square root of a number.\n",
    "# 3. Write a comment explaining what your code does.\n"
   ]
  },
  {
   "cell_type": "code",
   "execution_count": null,
   "id": "5ab5b497",
   "metadata": {},
   "outputs": [
    {
     "name": "stdout",
     "output_type": "stream",
     "text": [
      "jupyter notebook testing\n"
     ]
    }
   ],
   "source": [
    "dummy = \"jupyter notebook testing\"\n",
    "print(dummy)"
   ]
  },
  {
   "cell_type": "code",
   "execution_count": null,
   "id": "41c09630",
   "metadata": {},
   "outputs": [
    {
     "data": {
      "text/plain": [
       "12.0"
      ]
     },
     "execution_count": 8,
     "metadata": {},
     "output_type": "execute_result"
    }
   ],
   "source": [
    "import math\n",
    "math.sqrt(144)"
   ]
  },
  {
   "cell_type": "code",
   "execution_count": null,
   "id": "c8e2ed98",
   "metadata": {},
   "outputs": [],
   "source": [
    "# My code from problem 1 named a variable as dummy, assigned a string to it, and called the variable, dummy, to print. Meanwhile, math.sqrt() utilizes the math module of python to find the square root of 144. "
   ]
  },
  {
   "cell_type": "markdown",
   "id": "9f686303",
   "metadata": {},
   "source": [
    "## Functions"
   ]
  },
  {
   "cell_type": "code",
   "execution_count": null,
   "id": "1dc8ec37",
   "metadata": {},
   "outputs": [
    {
     "name": "stdout",
     "output_type": "stream",
     "text": [
      "Hello from a function!\n",
      "Hiiiiii :)\n"
     ]
    }
   ],
   "source": [
    "# Functions\n",
    "# Functions are reusable blocks of code defined using def\n",
    "\n",
    "def greet():\n",
    "    print(\"Hello from a function!\")\n",
    "\n",
    "greet()\n",
    "\n",
    "def test():\n",
    "    print(\"Hiiiiii :)\")\n",
    "\n",
    "test()"
   ]
  },
  {
   "cell_type": "markdown",
   "id": "cbf6f331",
   "metadata": {},
   "source": [
    "## Parameters and Arguments"
   ]
  },
  {
   "cell_type": "code",
   "execution_count": null,
   "id": "75930ad5",
   "metadata": {},
   "outputs": [
    {
     "name": "stdout",
     "output_type": "stream",
     "text": [
      "Hello Alice\n",
      "I love raccoons :)\n"
     ]
    }
   ],
   "source": [
    "# Parameters and Arguments\n",
    "# Functions can accept parameters\n",
    "\n",
    "def greet(name):\n",
    "    print(\"Hello\", name)\n",
    "\n",
    "greet(\"Alice\")\n",
    "\n",
    "# Your code here to define and call functions with parameters\n",
    "\n",
    "def animal(name2):\n",
    "    print(\"I love\", name2, \":)\")\n",
    "\n",
    "animal(\"raccoons\")\n"
   ]
  },
  {
   "cell_type": "markdown",
   "id": "e67d83bb",
   "metadata": {},
   "source": [
    "## Calling Functions and Local Variables"
   ]
  },
  {
   "cell_type": "code",
   "execution_count": null,
   "id": "544b787d",
   "metadata": {},
   "outputs": [
    {
     "name": "stdout",
     "output_type": "stream",
     "text": [
      "Sum: 7\n"
     ]
    },
    {
     "data": {
      "text/plain": [
       "9"
      ]
     },
     "execution_count": 37,
     "metadata": {},
     "output_type": "execute_result"
    }
   ],
   "source": [
    "# Calling Functions and Local Variables\n",
    "# Variables inside functions are local to that function\n",
    "\n",
    "def add(a, b):\n",
    "    result2 = a + b\n",
    "    return result2\n",
    "\n",
    "print(\"Sum:\", add(3, 4))\n",
    "\n",
    "# This will raise an error because result is local to add()\n",
    "\n",
    "# Your code here to define and call more functions with local variables\n",
    "\n",
    "add(3,6) "
   ]
  },
  {
   "cell_type": "markdown",
   "id": "69c11b94",
   "metadata": {},
   "source": [
    "## Loops"
   ]
  },
  {
   "cell_type": "code",
   "execution_count": null,
   "id": "a62fffb4",
   "metadata": {},
   "outputs": [
    {
     "name": "stdout",
     "output_type": "stream",
     "text": [
      "Iteration 0\n",
      "Iteration 1\n",
      "Iteration 2\n",
      "Iteration 3\n",
      "Iteration 4\n",
      "Let's count to 8! 0\n",
      "Let's count to 8! 1\n",
      "Let's count to 8! 2\n",
      "Let's count to 8! 3\n",
      "Let's count to 8! 4\n",
      "Let's count to 8! 5\n",
      "Let's count to 8! 6\n",
      "Let's count to 8! 7\n"
     ]
    }
   ],
   "source": [
    "# Loops\n",
    "# Use for loops to repeat actions\n",
    "\n",
    "for i in range(5):\n",
    "    print(\"Iteration\", i)\n",
    "\n",
    "# Your code here to define and use more loops\n",
    "\n",
    "for j in range(8):\n",
    "    print(\"Let's count to 8!\", j)\n"
   ]
  },
  {
   "cell_type": "markdown",
   "id": "ff0a87ad",
   "metadata": {},
   "source": [
    "\n",
    "# Loop Through a List\n",
    "Loop through a list of forces and calculate stress using σ = F / A. Flag any stress that exceeds the yield limit."
   ]
  },
  {
   "cell_type": "code",
   "execution_count": null,
   "id": "afada623",
   "metadata": {},
   "outputs": [
    {
     "name": "stdout",
     "output_type": "stream",
     "text": [
      "Force: 500 N → Stress: 100000.00 Pa → OK\n",
      "Force: 1000 N → Stress: 200000.00 Pa → OK\n",
      "Force: 1500 N → Stress: 300000.00 Pa → OK\n",
      "Force: 2000 N → Stress: 400000.00 Pa → Exceeds yield limit!\n",
      "here's my version of the code!\n",
      "Force: 4000 N → Stress: 3333.33 Pa → OK\n",
      "Force: 5000 N → Stress: 4166.67 Pa → OK\n",
      "Force: 6500 N → Stress: 5416.67 Pa → OK\n",
      "Force: 8000 N → Stress: 6666.67 Pa → OK\n"
     ]
    }
   ],
   "source": [
    "forces = [500, 1000, 1500, 2000]  # in Newtons\n",
    "area = 0.005  # cross-sectional area in m²\n",
    "yield_limit = 300000  # in Pascals\n",
    "\n",
    "for F in forces:\n",
    "    stress = F / area\n",
    "    status = \"OK\"\n",
    "    if stress > yield_limit:\n",
    "        status = \"Exceeds yield limit!\"\n",
    "    print(f\"Force: {F} N → Stress: {stress:.2f} Pa → {status}\")\n",
    "\n",
    "# Modify the code above to add more forces and change area and yield_limit\n",
    "\n",
    "print(\"here's my version of the code!\")\n",
    "\n",
    "forces = [4000, 5000, 6500, 8000]  # in Newtons\n",
    "area = 1.2  # cross-sectional area in m²\n",
    "yield_limit = 67000  # in Pascals\n",
    "\n",
    "for F in forces:\n",
    "    stress = F / area\n",
    "    status = \"OK\"\n",
    "    if stress > yield_limit:\n",
    "        status = \"Exceeds yield limit!\"\n",
    "    print(f\"Force: {F} N → Stress: {stress:.2f} Pa → {status}\")"
   ]
  },
  {
   "cell_type": "markdown",
   "id": "91804e1e",
   "metadata": {},
   "source": [
    "# Print Text"
   ]
  },
  {
   "cell_type": "code",
   "execution_count": null,
   "id": "35dd4dc9",
   "metadata": {},
   "outputs": [
    {
     "name": "stdout",
     "output_type": "stream",
     "text": [
      "yawn\n"
     ]
    }
   ],
   "source": [
    "text = \"yawn\"\n",
    "print(text[:5]) # NameError: name 'text' is not defined. Need to define 'text' first.\n",
    "\n",
    "# Fix the error"
   ]
  },
  {
   "cell_type": "markdown",
   "id": "be099eeb",
   "metadata": {},
   "source": [
    "# Final Exercises\n",
    "# 1. Write a function that returns the square of a number.\n",
    "# 2. Use a loop to print numbers from 1 to 10.\n",
    "# 3. Use round() and abs() in a function.\n"
   ]
  },
  {
   "cell_type": "code",
   "execution_count": null,
   "id": "43c4cd1b",
   "metadata": {},
   "outputs": [
    {
     "data": {
      "text/plain": [
       "11"
      ]
     },
     "execution_count": 47,
     "metadata": {},
     "output_type": "execute_result"
    }
   ],
   "source": [
    "def square(a, b):\n",
    "    result = a + b\n",
    "    return result\n",
    "square(5,6)"
   ]
  },
  {
   "cell_type": "code",
   "execution_count": null,
   "id": "06be2c70",
   "metadata": {},
   "outputs": [
    {
     "name": "stdout",
     "output_type": "stream",
     "text": [
      "0\n",
      "1\n",
      "2\n",
      "3\n",
      "4\n",
      "5\n",
      "6\n",
      "7\n",
      "8\n",
      "9\n"
     ]
    }
   ],
   "source": [
    "# Code here\n",
    "for i in range(10):\n",
    "    print(i)"
   ]
  },
  {
   "cell_type": "code",
   "execution_count": null,
   "id": "2d31697c",
   "metadata": {},
   "outputs": [
    {
     "name": "stdout",
     "output_type": "stream",
     "text": [
      "Here's an example of the round() function in action! 13\n",
      "Now here's the abs() function in play! 20\n"
     ]
    }
   ],
   "source": [
    "def round(a,b):\n",
    "    rounded = a + b\n",
    "    return rounded\n",
    "\n",
    "print(\"Here's an example of the round() function in action!\", round(6,7))\n",
    "\n",
    "def abs(c,d):\n",
    "    absolute = c + d\n",
    "    return absolute\n",
    "\n",
    "print(\"Now here's the abs() function in play!\", abs(9,11))"
   ]
  },
  {
   "cell_type": "code",
   "execution_count": null,
   "id": "bd3040cd",
   "metadata": {},
   "outputs": [],
   "source": []
  }
 ],
 "metadata": {
  "kernelspec": {
   "display_name": "base",
   "language": "python",
   "name": "python3"
  },
  "language_info": {
   "codemirror_mode": {
    "name": "ipython",
    "version": 3
   },
   "file_extension": ".py",
   "mimetype": "text/x-python",
   "name": "python",
   "nbconvert_exporter": "python",
   "pygments_lexer": "ipython3",
   "version": "3.13.5"
  }
 },
 "nbformat": 4,
 "nbformat_minor": 5
}
